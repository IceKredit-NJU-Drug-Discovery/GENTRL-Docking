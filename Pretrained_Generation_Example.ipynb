{
 "cells": [
  {
   "cell_type": "code",
   "execution_count": null,
   "id": "dbb93fdf",
   "metadata": {},
   "outputs": [],
   "source": [
    "\n",
    "import os\n",
    "import sklearn\n",
    "import gentrl\n",
    "import torch\n",
    "import pandas as pd\n",
    "from tqdm import tqdm\n",
    "\n",
    "# moses and rdkit\n",
    "from moses.metrics import mol_passes_filters, QED, SA, logP\n",
    "from moses.metrics.utils import get_n_rings, get_mol\n",
    "from rdkit import Chem\n",
    "from rdkit.Chem import Descriptors\n",
    "from rdkit import RDLogger\n",
    "from torch.utils.data import DataLoader\n",
    "RDLogger.DisableLog('rdApp.*')\n",
    "\n",
    "import warnings\n",
    "warnings.filterwarnings(\"ignore\",category=UserWarning)\n",
    "\n",
    "os.environ['CUDA_VISIBLE_DEVICES']='0,1,2,3'\n",
    "device = torch.device(\"cuda:0\" if torch.cuda.is_available() else \"cpu\")\n",
    "torch.cuda.set_device(0)"
   ]
  },
  {
   "cell_type": "code",
   "execution_count": null,
   "id": "f0dbb805",
   "metadata": {},
   "outputs": [],
   "source": [
    "MODEL_PATH = \"ddr1_models\"\n",
    "BATCH_SIZE = 1000\n",
    "NUM_EPOCHS = 100\n",
    "LR = 1e-3\n",
    "\n",
    "DATA = [{'path':'ddr1_datasets/ZINC_IHAD_~100k_clean.csv',\n",
    "         'smiles': 'smiles',\n",
    "         'prob': 0.175,\n",
    "         'label' : 'label',\n",
    "    },\n",
    "    {'path':'ddr1_datasets/train_moses_all.csv',\n",
    "         'smiles': 'SMILES',\n",
    "         'prob': 0.175,\n",
    "         'label' : 'label',\n",
    "    },\n",
    "    {'path':'ddr1_datasets/ddr1_inhibitors.csv',\n",
    "     'smiles': 'smi',\n",
    "     'prob': 0.35,\n",
    "     'label' : 'label',\n",
    "    },{'path':'ddr1_datasets/common_inhibitors.csv',\n",
    "     'smiles': 'smi',\n",
    "     'prob': 0.15,\n",
    "     'label' : 'label',\n",
    "    },\n",
    "    {'path':'ddr1_datasets/none_kinase_target_compounds.csv',\n",
    "     'smiles': 'smi',\n",
    "     'prob': 0.15,\n",
    "     'label' : 'label',\n",
    "    }\n",
    "    ]"
   ]
  },
  {
   "cell_type": "code",
   "execution_count": null,
   "id": "c00d4874",
   "metadata": {},
   "outputs": [],
   "source": [
    "def init_model():\n",
    "    enc = gentrl.RNNEncoder(latent_size=50,hidden_size=128)\n",
    "    dec = gentrl.DilConvDecoder(latent_input_size=50)\n",
    "    model = gentrl.GENTRL(enc, dec, 50 * [('c', 10)], [('c', 10)], tt_int=30,beta=0.001)\n",
    "    model = model.to(device)\n",
    "    return model"
   ]
  },
  {
   "cell_type": "code",
   "execution_count": null,
   "id": "5643cfd5",
   "metadata": {},
   "outputs": [],
   "source": [
    "model_data = gentrl.MolecularDataset(sources=DATA, props=['label'])\n",
    "train_loader = DataLoader(model_data, batch_size=BATCH_SIZE, shuffle=True, num_workers=4, drop_last=True)"
   ]
  },
  {
   "cell_type": "code",
   "execution_count": null,
   "id": "d4b8fda9",
   "metadata": {},
   "outputs": [],
   "source": [
    "os.mkdir(MODEL_PATH)\n",
    "\n",
    "model = init_model()\n",
    "global_stats,local_stats, stats_dictionary = model.increase_vaelp_validity(train_loader, lr=LR,num_epochs=NUM_EPOCHS,file_path=MODEL_PATH,dec_ratio=0)\n",
    "\n",
    "pd.DataFrame(stats_dictionary).to_csv(MODEL_PATH +\"/losses.csv\",index=None)"
   ]
  }
 ],
 "metadata": {
  "kernelspec": {
   "display_name": "rdkit-kernel",
   "language": "python",
   "name": "rdkit-kernel"
  },
  "language_info": {
   "codemirror_mode": {
    "name": "ipython",
    "version": 3
   },
   "file_extension": ".py",
   "mimetype": "text/x-python",
   "name": "python",
   "nbconvert_exporter": "python",
   "pygments_lexer": "ipython3",
   "version": "3.7.13"
  }
 },
 "nbformat": 4,
 "nbformat_minor": 5
}
