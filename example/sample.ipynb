{
 "cells": [
  {
   "cell_type": "code",
   "execution_count": 1,
   "id": "bdba3c1d",
   "metadata": {},
   "outputs": [],
   "source": [
    "import os\n",
    "# os.chdir(r'/home/wu_junyu/GENTRL_master')\n",
    "import gentrl\n",
    "import torch\n",
    "\n",
    "from moses.metrics.utils import  get_mol\n",
    "import pandas as pd\n",
    "\n",
    "torch.cuda.set_device(0)\n",
    "\n"
   ]
  },
  {
   "cell_type": "code",
   "execution_count": 2,
   "id": "7dcdd389",
   "metadata": {},
   "outputs": [
    {
     "data": {
      "text/plain": [
       "21"
      ]
     },
     "execution_count": 2,
     "metadata": {},
     "output_type": "execute_result"
    }
   ],
   "source": [
    "import gc \n",
    "gc.collect()"
   ]
  },
  {
   "cell_type": "code",
   "execution_count": 3,
   "id": "ddcb2a3a",
   "metadata": {},
   "outputs": [],
   "source": [
    "#create gentrl\n",
    "enc = gentrl.RNNEncoder(latent_size=50, hidden_size = 128)\n",
    "dec = gentrl.DilConvDecoder(latent_input_size=50)\n",
    "model = gentrl.GENTRL(enc, dec, 50 * [('c', 10)], [('c', 10)],tt_int=30, beta=0.001)\n",
    "\n",
    "model.cuda();"
   ]
  },
  {
   "cell_type": "code",
   "execution_count": 12,
   "id": "4a6aa5fb",
   "metadata": {},
   "outputs": [],
   "source": [
    "model.load('../model/SOM_model_iter599/')\n",
    "model.cuda();"
   ]
  },
  {
   "cell_type": "code",
   "execution_count": 20,
   "id": "363a8940",
   "metadata": {},
   "outputs": [],
   "source": [
    "def gen_mol(model, n_r):\n",
    "\n",
    "    generated = []\n",
    "\n",
    "    for i in range(n_r):\n",
    "        sampled = model.sample(100)\n",
    "        sampled_valid = [s for s in sampled if get_mol(s)]\n",
    "\n",
    "        i+=1\n",
    "        generated += sampled_valid\n",
    "\n",
    "    df = pd.DataFrame(generated, columns = ['SMILES'])\n",
    "\n",
    "    res_count = pd.DataFrame(df.value_counts()).rename({0:'count'},axis = 1).reset_index()\n",
    "\n",
    "    return res_count"
   ]
  },
  {
   "cell_type": "code",
   "execution_count": 21,
   "id": "51683541",
   "metadata": {
    "scrolled": true
   },
   "outputs": [
    {
     "name": "stderr",
     "output_type": "stream",
     "text": [
      "RDKit ERROR: [16:41:41] SMILES Parse Error: extra close parentheses while parsing: Nc1cccc(C(N)=O)c1)Nc1cccc(C(=O)NCCCO)c1\n",
      "[16:41:41] SMILES Parse Error: extra close parentheses while parsing: Nc1cccc(C(N)=O)c1)Nc1cccc(C(=O)NCCCO)c1\n",
      "RDKit ERROR: [16:41:41] SMILES Parse Error: Failed parsing SMILES 'Nc1cccc(C(N)=O)c1)Nc1cccc(C(=O)NCCCO)c1' for input: 'Nc1cccc(C(N)=O)c1)Nc1cccc(C(=O)NCCCO)c1'\n",
      "RDKit ERROR: [16:41:41] SMILES Parse Error: extra open parentheses for input: 'N#Cc1ccc(Occcc1NC(=O)c1cccc(OCc2ccncc2)c1'\n",
      "RDKit ERROR: [16:41:41] Can't kekulize mol.  Unkekulized atoms: 11 12 13 14 23\n",
      "RDKit ERROR: \n",
      "RDKit ERROR: [16:41:41] Can't kekulize mol.  Unkekulized atoms: 1 2 3 4 18\n",
      "RDKit ERROR: \n",
      "RDKit ERROR: [16:41:41] SMILES Parse Error: extra close parentheses while parsing: Cc1cccc(C(N)=O)c1)Nc1cccc(NC2CCC2)c1\n",
      "RDKit ERROR: [16:41:41] SMILES Parse Error: Failed parsing SMILES 'Cc1cccc(C(N)=O)c1)Nc1cccc(NC2CCC2)c1' for input: 'Cc1cccc(C(N)=O)c1)Nc1cccc(NC2CCC2)c1'\n",
      "RDKit ERROR: [16:41:41] SMILES Parse Error: extra open parentheses for input: 'Cc1cccc(C(=NNc2cccnc2Oc2cccnc2)c1O'\n",
      "RDKit ERROR: [16:41:41] Can't kekulize mol.  Unkekulized atoms: 9 10 11 12 13 22 23\n",
      "RDKit ERROR: \n",
      "RDKit ERROR: [16:41:41] SMILES Parse Error: extra open parentheses for input: 'Cc1ccc(Occcc1NC(=O)c1cccc(OCC2CC2)c1'\n",
      "RDKit ERROR: [16:41:41] Can't kekulize mol.  Unkekulized atoms: 9 10 11 12 24\n",
      "RDKit ERROR: \n",
      "RDKit ERROR: [16:41:41] Can't kekulize mol.  Unkekulized atoms: 2 3 4 5 6\n",
      "RDKit ERROR: \n",
      "RDKit ERROR: [16:41:41] SMILES Parse Error: unclosed ring for input: 'Cc1ccccc1NC(=O)c1cccc(OCC(F)(F)F)c21'\n",
      "RDKit ERROR: [16:41:41] Can't kekulize mol.  Unkekulized atoms: 11 12 13 14 15 17 19\n",
      "RDKit ERROR: \n",
      "RDKit ERROR: [16:41:41] Can't kekulize mol.  Unkekulized atoms: 1 2 3 4 5 19 21\n",
      "RDKit ERROR: \n",
      "RDKit ERROR: [16:41:41] SMILES Parse Error: extra open parentheses for input: 'Cc1ccc(C(NC(=O)c2ccccc2NC(N)=O)cn1'\n",
      "RDKit ERROR: [16:41:41] Can't kekulize mol.  Unkekulized atoms: 1 2 3 4 21\n",
      "RDKit ERROR: \n",
      "RDKit ERROR: [16:41:41] Can't kekulize mol.  Unkekulized atoms: 6 7 8 9 21\n",
      "RDKit ERROR: \n",
      "RDKit ERROR: [16:41:41] SMILES Parse Error: extra close parentheses while parsing: Cc1cc[nH]c(=O)c1COC1CCOc2cccc(NC(C)=O)c2)n1\n",
      "RDKit ERROR: [16:41:41] SMILES Parse Error: Failed parsing SMILES 'Cc1cc[nH]c(=O)c1COC1CCOc2cccc(NC(C)=O)c2)n1' for input: 'Cc1cc[nH]c(=O)c1COC1CCOc2cccc(NC(C)=O)c2)n1'\n",
      "RDKit ERROR: [16:41:41] Can't kekulize mol.  Unkekulized atoms: 9 10 11 12 13\n",
      "RDKit ERROR: \n",
      "RDKit ERROR: [16:41:41] Can't kekulize mol.  Unkekulized atoms: 1 2 3 4 22\n",
      "RDKit ERROR: \n",
      "RDKit ERROR: [16:41:41] SMILES Parse Error: extra open parentheses for input: 'N#Cc1ccccc1OCCN(Cc1cccc(C(=O)NC)c1'\n",
      "RDKit ERROR: [16:41:41] Can't kekulize mol.  Unkekulized atoms: 1 2 3 5 6\n",
      "RDKit ERROR: \n",
      "RDKit ERROR: [16:41:41] SMILES Parse Error: extra close parentheses while parsing: N#Cc1cccc(C(N)=O)c1)Nc1cccc(CO)c1\n",
      "RDKit ERROR: [16:41:41] SMILES Parse Error: Failed parsing SMILES 'N#Cc1cccc(C(N)=O)c1)Nc1cccc(CO)c1' for input: 'N#Cc1cccc(C(N)=O)c1)Nc1cccc(CO)c1'\n",
      "[16:41:41] SMILES Parse Error: Failed parsing SMILES 'Nc1cccc(C(N)=O)c1)Nc1cccc(C(=O)NCCCO)c1' for input: 'Nc1cccc(C(N)=O)c1)Nc1cccc(C(=O)NCCCO)c1'\n",
      "[16:41:41] SMILES Parse Error: extra open parentheses for input: 'N#Cc1ccc(Occcc1NC(=O)c1cccc(OCc2ccncc2)c1'\n",
      "[16:41:41] Can't kekulize mol.  Unkekulized atoms: 11 12 13 14 23\n",
      "\n",
      "[16:41:41] Can't kekulize mol.  Unkekulized atoms: 1 2 3 4 18\n",
      "\n",
      "[16:41:41] SMILES Parse Error: extra close parentheses while parsing: Cc1cccc(C(N)=O)c1)Nc1cccc(NC2CCC2)c1\n",
      "[16:41:41] SMILES Parse Error: Failed parsing SMILES 'Cc1cccc(C(N)=O)c1)Nc1cccc(NC2CCC2)c1' for input: 'Cc1cccc(C(N)=O)c1)Nc1cccc(NC2CCC2)c1'\n",
      "[16:41:41] SMILES Parse Error: extra open parentheses for input: 'Cc1cccc(C(=NNc2cccnc2Oc2cccnc2)c1O'\n",
      "[16:41:41] Can't kekulize mol.  Unkekulized atoms: 9 10 11 12 13 22 23\n",
      "\n",
      "[16:41:41] SMILES Parse Error: extra open parentheses for input: 'Cc1ccc(Occcc1NC(=O)c1cccc(OCC2CC2)c1'\n",
      "[16:41:41] Can't kekulize mol.  Unkekulized atoms: 9 10 11 12 24\n",
      "\n",
      "[16:41:41] Can't kekulize mol.  Unkekulized atoms: 2 3 4 5 6\n",
      "\n",
      "[16:41:41] SMILES Parse Error: unclosed ring for input: 'Cc1ccccc1NC(=O)c1cccc(OCC(F)(F)F)c21'\n",
      "[16:41:41] Can't kekulize mol.  Unkekulized atoms: 11 12 13 14 15 17 19\n",
      "\n",
      "[16:41:41] Can't kekulize mol.  Unkekulized atoms: 1 2 3 4 5 19 21\n",
      "\n",
      "[16:41:41] SMILES Parse Error: extra open parentheses for input: 'Cc1ccc(C(NC(=O)c2ccccc2NC(N)=O)cn1'\n",
      "[16:41:41] Can't kekulize mol.  Unkekulized atoms: 1 2 3 4 21\n",
      "\n",
      "[16:41:41] Can't kekulize mol.  Unkekulized atoms: 6 7 8 9 21\n",
      "\n",
      "[16:41:41] SMILES Parse Error: extra close parentheses while parsing: Cc1cc[nH]c(=O)c1COC1CCOc2cccc(NC(C)=O)c2)n1\n",
      "[16:41:41] SMILES Parse Error: Failed parsing SMILES 'Cc1cc[nH]c(=O)c1COC1CCOc2cccc(NC(C)=O)c2)n1' for input: 'Cc1cc[nH]c(=O)c1COC1CCOc2cccc(NC(C)=O)c2)n1'\n",
      "[16:41:41] Can't kekulize mol.  Unkekulized atoms: 9 10 11 12 13\n",
      "\n",
      "[16:41:41] Can't kekulize mol.  Unkekulized atoms: 1 2 3 4 22\n",
      "\n",
      "[16:41:41] SMILES Parse Error: extra open parentheses for input: 'N#Cc1ccccc1OCCN(Cc1cccc(C(=O)NC)c1'\n",
      "[16:41:41] Can't kekulize mol.  Unkekulized atoms: 1 2 3 5 6\n",
      "\n",
      "[16:41:41] SMILES Parse Error: extra close parentheses while parsing: N#Cc1cccc(C(N)=O)c1)Nc1cccc(CO)c1\n",
      "[16:41:41] SMILES Parse Error: Failed parsing SMILES 'N#Cc1cccc(C(N)=O)c1)Nc1cccc(CO)c1' for input: 'N#Cc1cccc(C(N)=O)c1)Nc1cccc(CO)c1'\n"
     ]
    }
   ],
   "source": [
    "df_sample = gen_mol(model,1)"
   ]
  },
  {
   "cell_type": "code",
   "execution_count": null,
   "id": "22fb958a",
   "metadata": {},
   "outputs": [],
   "source": [
    "df_sample.to_csv('sample.csv')"
   ]
  },
  {
   "cell_type": "code",
   "execution_count": null,
   "id": "9b6b8ce6",
   "metadata": {},
   "outputs": [],
   "source": []
  }
 ],
 "metadata": {
  "kernelspec": {
   "display_name": "rdk",
   "language": "python",
   "name": "rdk"
  },
  "language_info": {
   "codemirror_mode": {
    "name": "ipython",
    "version": 3
   },
   "file_extension": ".py",
   "mimetype": "text/x-python",
   "name": "python",
   "nbconvert_exporter": "python",
   "pygments_lexer": "ipython3",
   "version": "3.7.13"
  }
 },
 "nbformat": 4,
 "nbformat_minor": 5
}
