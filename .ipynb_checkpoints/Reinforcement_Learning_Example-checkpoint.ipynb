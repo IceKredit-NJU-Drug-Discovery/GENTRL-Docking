{
 "cells": [
  {
   "cell_type": "code",
   "execution_count": null,
   "id": "76d9b23a",
   "metadata": {},
   "outputs": [],
   "source": [
    "import gentrl\n",
    "import torch\n",
    "import os\n",
    "import minisom\n",
    "import numpy as np\n",
    "import pandas as pd\n",
    "from rdkit import Chem\n",
    "from rdkit import DataStructs\n",
    "from rdkit.Chem import Descriptors\n",
    "from rdkit.Chem import AllChem\n",
    "from rdkit.Chem import Draw\n",
    "from moses.metrics import mol_passes_filters, QED, SA, logP\n",
    "from moses.metrics.utils import get_n_rings, get_mol\n",
    "\n",
    "import pickle\n",
    "import joblib"
   ]
  },
  {
   "cell_type": "code",
   "execution_count": null,
   "id": "7d5f6d82",
   "metadata": {},
   "outputs": [],
   "source": [
    "from rdkit import RDLogger\n",
    "RDLogger.DisableLog('rdApp.*')"
   ]
  },
  {
   "cell_type": "code",
   "execution_count": null,
   "id": "1a3a86da",
   "metadata": {},
   "outputs": [],
   "source": [
    "os.environ['CUDA_VISIBLE_DEVICES']='0,1,2,3'\n",
    "torch.cuda.set_device(0)\n",
    "\n",
    "MODEL_PATH = \"model/Bayes_model_iter599/\"\n",
    "RL_PATH = \"ddr1_bayes_regression_1201.pkl\"\n",
    "\n",
    "LR = 1e-3\n",
    "Iteration = 3000\n",
    "BATCH_SIZE = 500\n",
    "\n",
    "SAVE_PATH = f\"DDR1_BAYES_lr{LR}\""
   ]
  },
  {
   "cell_type": "code",
   "execution_count": null,
   "id": "6e18e141",
   "metadata": {},
   "outputs": [],
   "source": [
    "def init_model():\n",
    "    enc = gentrl.RNNEncoder(latent_size=50,hidden_size=128)\n",
    "    dec = gentrl.DilConvDecoder(latent_input_size=50)\n",
    "    model = gentrl.GENTRL(enc, dec, 50 * [('c', 10)], [('c', 10)], tt_int=30,beta=0.001)\n",
    "    return model"
   ]
  },
  {
   "cell_type": "code",
   "execution_count": null,
   "id": "38896a7f",
   "metadata": {},
   "outputs": [],
   "source": [
    "# reward function \n",
    "def reward_fn(mol_or_smiles,cur_iteration=0,bayes_regression = bayes_regression, default=0):\n",
    "\n",
    "    mol = get_mol(mol_or_smiles)\n",
    "    if mol is None:\n",
    "        return default\n",
    "\n",
    "    xx = AllChem.GetMorganFingerprintAsBitVect(Chem.MolFromSmiles(mol_or_smiles), 2, nBits=2048)\n",
    "    xx = np.vstack(xx).reshape(1,-1)\n",
    "    \n",
    "    mfp_sum = np.array(xx).sum()\n",
    "    if mfp_sum<20:\n",
    "            return default\n",
    "    \n",
    "    mfp = 1 / (1+np.exp(-(mfp_sum-60)/10))\n",
    "    \n",
    "    bayes_regression = np.exp(-bayes_regression.predict(np.array(xx).reshape(1,-1))[0])\n",
    "    \n",
    "    reward = mfp * bayes_regression\n",
    "    \n",
    "    return reward"
   ]
  },
  {
   "cell_type": "code",
   "execution_count": null,
   "id": "4fc20b45",
   "metadata": {},
   "outputs": [],
   "source": [
    "# model and reinforcement model load\n",
    "model = init_model()\n",
    "model.load(MODEL_PATH)\n",
    "model.cuda()\n",
    "bayes_regression = joblib.load(open(RL_PATH,'rb'))\n",
    "os.mkdir(SAVE_PATH)"
   ]
  },
  {
   "cell_type": "code",
   "execution_count": null,
   "id": "584a4eb9",
   "metadata": {},
   "outputs": [],
   "source": [
    "\n",
    "#record the reward value and valid molecule percentage every 100 epoch\n",
    "records_mean = model.train_as_rl(reward_fn,num_iterations= Iteration,batch_size=BATCH_SIZE,lr_lp=LR,lr_dec=1e-8,exploration_ratio=0.1, file_path=SAVE_PATH,topN=1)\n",
    "\n",
    "global_stats, record_mean_reward, record_valid_perc = records_mean\n",
    "\n",
    "pd.DataFrame(record_mean_reward).to_csv(\"./\"+file_path+\"/mean_reward.csv\")\n",
    "pd.DataFrame(record_valid_perc).to_csv(\"./\"+file_path+\"/valid_perc.csv\")\n"
   ]
  }
 ],
 "metadata": {
  "kernelspec": {
   "display_name": "rdkit-kernel",
   "language": "python",
   "name": "rdkit-kernel"
  },
  "language_info": {
   "codemirror_mode": {
    "name": "ipython",
    "version": 3
   },
   "file_extension": ".py",
   "mimetype": "text/x-python",
   "name": "python",
   "nbconvert_exporter": "python",
   "pygments_lexer": "ipython3",
   "version": "3.7.13"
  }
 },
 "nbformat": 4,
 "nbformat_minor": 5
}
